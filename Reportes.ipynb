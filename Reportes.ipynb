import json
def switch_reporte(idReporte):
    
    if idReporte == 1:
        return json.dumps({'Script': 'FBD_TipoCambio','Schema': 'Schema'})
    elif idReporte == 2:
        return json.dumps({'Script': 'FBD_ExigibilidadInmediata','Schema': 'Schema'})
    elif idReporte == 3:
        return json.dumps({'Script': 'FBD_Divisas','Schema': 'Schema'})
    elif idReporte == 4:
        return json.dumps({'Script': 'FBD_MXN_Efect','Schema': 'Schema'})
    elif idReporte == 5:
        return json.dumps({'Script': 'FBD_OperacionesInusuales','Schema': 'Schema'})
    elif idReporte == 6:
        return json.dumps({'Script': 'FBD_PEPS','Schema': 'Schema'})
    elif idReporte == 7:
        return json.dumps({'Script': 'FBD_TIFE','Schema': 'Schemas/jsonSchemaTife.json'})
    elif idReporte == 8:
        return json.dumps({'Script': 'FBD_TIFR','Schema': 'Schemas/jsonSchemaTife.json'})
        #return "FBD_TIFR.py"  
    elif idReporte == 9:
        return json.dumps({'Script': 'FBD_Alertas','Schema': 'Schema'})
       # return "FBD_Alertas.py"  
    elif idReporte == 10:
        return json.dumps({'Script': 'FBD_CHCaja.py','Schema': 'Schema'})
       # return "FBD_CHCaja.py"  
    elif idReporte == 11:
        return json.dumps({'Script': 'FBD_ClienteAltoRiesgo.py','Schema': 'Schema'})
       # return "FBD_ClienteAltoRiesgo.py"  
    elif idReporte == 12:
        return json.dumps({'Script': 'FBD_ClienteBP.py','Schema': 'Schema'})
        #return "FBD_ClienteBP.py"  
    elif idReporte == 13:
        return json.dumps({'Script': 'FBD_Clientes.py','Schema': 'Schema'})
        #return "FBD_Clientes.py"  
    elif idReporte == 14:
        return json.dumps({'Script': 'FBD_Creditos.py','Schema': 'Schema'})
       # return "FBD_Creditos.py"  
    elif idReporte == 15:
        return json.dumps({'Script': 'FBD_ClientesCuentas.py','Schema': 'Schema'})
        #return "FBD_ClientesCuentas.py"  
    elif idReporte == 16:
        return json.dumps({'Script': 'TNFE','Schema': 'Schema'})
        #return "TNFE.py"  
    elif idReporte == 17:
        return json.dumps({'Script': 'TNFR','Schema': 'Schema'})
       # return "TNFR.py"  
    elif idReporte == 18:
        return json.dumps({'Script': 'DivisasEfec.py','Schema': 'Schema'})
       # return "DivisasEfec.py"  
    elif idReporte == 19:
        return json.dumps({'Script': 'MXNEfec.py','Schema': 'Schema'})
        #return "MXNEfec.py"  
    elif idReporte == 20:
        return json.dumps({'Script': 'TipoCambio.py','Schema': 'Schema'})
        #return "TipoCambio.py"  
    elif idReporte == 21:
        return json.dumps({'Script': 'FBD_CU_PS_TP.py','Schema': 'Schema'})
       # return "FBD_CU_PS_TP.py"  
    elif idReporte == 22:
        return json.dumps({'Script': 'FBD_FEnt.py','Schema': 'Schema'})
        #return "FBD_FEnt.py"  
    elif idReporte == 23:
        return json.dumps({'Script': 'FBD_FSal.py','Schema': 'Schema'})
       # return "FBD_FSal.py"  
    elif idReporte == 24:
        return json.dumps({'Script': 'Cheques_Caja.py','Schema': 'Schema'})
       # return "Cheques_Caja.py"  
    elif idReporte == 25:
        return json.dumps({'Script': 'Dolares_Efectivo.py','Schema': 'Schema'})
      #  return "Dolares_Efectivo.py"  
    elif idReporte == 26:
        return json.dumps({'Script': 'Transferencias_Internacionales.py','Schema': ''})
       # return "Transferencias_Internacionales.py"  
    elif idReporte == 27:
        return json.dumps({'Script': 'Inversiones','Schema': ''})    